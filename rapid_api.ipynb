{
 "cells": [
  {
   "cell_type": "code",
   "execution_count": 2,
   "id": "79659b9a-99e1-4a12-8cfc-201261e876e0",
   "metadata": {},
   "outputs": [
    {
     "ename": "SyntaxError",
     "evalue": "invalid syntax (2996046937.py, line 1)",
     "output_type": "error",
     "traceback": [
      "\u001b[1;36m  Cell \u001b[1;32mIn[2], line 1\u001b[1;36m\u001b[0m\n\u001b[1;33m    curl -H 'X-RapidAPI-Host: covid-19-statistics.p.rapidapi.com' -H 'X-RapidAPI-Key: 80bf711dd5msha3d54661a3e2619p19c6bbjsn1c15751be589' 'https://covid-19-statistics.p.rapidapi.com/regions'\u001b[0m\n\u001b[1;37m            ^\u001b[0m\n\u001b[1;31mSyntaxError\u001b[0m\u001b[1;31m:\u001b[0m invalid syntax\n"
     ]
    }
   ],
   "source": [
    "curl -H 'X-RapidAPI-Host: covid-19-statistics.p.rapidapi.com' -H 'X-RapidAPI-Key: 80bf711dd5msha3d54661a3e2619p19c6bbjsn1c15751be589' 'https://covid-19-statistics.p.rapidapi.com/regions'\n",
    "\n"
   ]
  },
  {
   "cell_type": "code",
   "execution_count": 3,
   "id": "d04cb135-1de1-4b5e-856e-4f10d8abc656",
   "metadata": {},
   "outputs": [
    {
     "name": "stdout",
     "output_type": "stream",
     "text": [
      "{'data': [{'iso': 'CHN', 'name': 'China'}, {'iso': 'TWN', 'name': 'Taipei and environs'}, {'iso': 'USA', 'name': 'US'}, {'iso': 'JPN', 'name': 'Japan'}, {'iso': 'THA', 'name': 'Thailand'}, {'iso': 'KOR', 'name': 'Korea, South'}, {'iso': 'SGP', 'name': 'Singapore'}, {'iso': 'PHL', 'name': 'Philippines'}, {'iso': 'MYS', 'name': 'Malaysia'}, {'iso': 'VNM', 'name': 'Vietnam'}, {'iso': 'AUS', 'name': 'Australia'}, {'iso': 'MEX', 'name': 'Mexico'}, {'iso': 'BRA', 'name': 'Brazil'}, {'iso': 'COL', 'name': 'Colombia'}, {'iso': 'FRA', 'name': 'France'}, {'iso': 'NPL', 'name': 'Nepal'}, {'iso': 'CAN', 'name': 'Canada'}, {'iso': 'KHM', 'name': 'Cambodia'}, {'iso': 'LKA', 'name': 'Sri Lanka'}, {'iso': 'CIV', 'name': \"Cote d'Ivoire\"}, {'iso': 'DEU', 'name': 'Germany'}, {'iso': 'FIN', 'name': 'Finland'}, {'iso': 'ARE', 'name': 'United Arab Emirates'}, {'iso': 'IND', 'name': 'India'}, {'iso': 'ITA', 'name': 'Italy'}, {'iso': 'GBR', 'name': 'United Kingdom'}, {'iso': 'RUS', 'name': 'Russia'}, {'iso': 'SWE', 'name': 'Sweden'}, {'iso': 'ESP', 'name': 'Spain'}, {'iso': 'BEL', 'name': 'Belgium'}, {'iso': 'Others', 'name': 'Others'}, {'iso': 'EGY', 'name': 'Egypt'}, {'iso': 'IRN', 'name': 'Iran'}, {'iso': 'ISR', 'name': 'Israel'}, {'iso': 'LBN', 'name': 'Lebanon'}, {'iso': 'IRQ', 'name': 'Iraq'}, {'iso': 'OMN', 'name': 'Oman'}, {'iso': 'AFG', 'name': 'Afghanistan'}, {'iso': 'BHR', 'name': 'Bahrain'}, {'iso': 'KWT', 'name': 'Kuwait'}, {'iso': 'AUT', 'name': 'Austria'}, {'iso': 'DZA', 'name': 'Algeria'}, {'iso': 'HRV', 'name': 'Croatia'}, {'iso': 'CHE', 'name': 'Switzerland'}, {'iso': 'PAK', 'name': 'Pakistan'}, {'iso': 'GEO', 'name': 'Georgia'}, {'iso': 'GRC', 'name': 'Greece'}, {'iso': 'MKD', 'name': 'North Macedonia'}, {'iso': 'NOR', 'name': 'Norway'}, {'iso': 'ROU', 'name': 'Romania'}, {'iso': 'DNK', 'name': 'Denmark'}, {'iso': 'EST', 'name': 'Estonia'}, {'iso': 'NLD', 'name': 'Netherlands'}, {'iso': 'SMR', 'name': 'San Marino'}, {'iso': 'AZE', 'name': 'Azerbaijan'}, {'iso': 'BLR', 'name': 'Belarus'}, {'iso': 'ISL', 'name': 'Iceland'}, {'iso': 'LTU', 'name': 'Lithuania'}, {'iso': 'NZL', 'name': 'New Zealand'}, {'iso': 'NGA', 'name': 'Nigeria'}, {'iso': 'IRL', 'name': 'Ireland'}, {'iso': 'LUX', 'name': 'Luxembourg'}, {'iso': 'MCO', 'name': 'Monaco'}, {'iso': 'QAT', 'name': 'Qatar'}, {'iso': 'ECU', 'name': 'Ecuador'}, {'iso': 'CZE', 'name': 'Czechia'}, {'iso': 'ARM', 'name': 'Armenia'}, {'iso': 'DOM', 'name': 'Dominican Republic'}, {'iso': 'IDN', 'name': 'Indonesia'}, {'iso': 'PRT', 'name': 'Portugal'}, {'iso': 'AND', 'name': 'Andorra'}, {'iso': 'LVA', 'name': 'Latvia'}, {'iso': 'MAR', 'name': 'Morocco'}, {'iso': 'SAU', 'name': 'Saudi Arabia'}, {'iso': 'SEN', 'name': 'Senegal'}, {'iso': 'ARG', 'name': 'Argentina'}, {'iso': 'CHL', 'name': 'Chile'}, {'iso': 'JOR', 'name': 'Jordan'}, {'iso': 'UKR', 'name': 'Ukraine'}, {'iso': 'BLM', 'name': 'Saint Barthelemy'}, {'iso': 'HUN', 'name': 'Hungary'}, {'iso': 'FRO', 'name': 'Faroe Islands'}, {'iso': 'GIB', 'name': 'Gibraltar'}, {'iso': 'LIE', 'name': 'Liechtenstein'}, {'iso': 'POL', 'name': 'Poland'}, {'iso': 'TUN', 'name': 'Tunisia'}, {'iso': 'PSE', 'name': 'West Bank and Gaza'}, {'iso': 'BIH', 'name': 'Bosnia and Herzegovina'}, {'iso': 'SVN', 'name': 'Slovenia'}, {'iso': 'ZAF', 'name': 'South Africa'}, {'iso': 'BTN', 'name': 'Bhutan'}, {'iso': 'CMR', 'name': 'Cameroon'}, {'iso': 'CRI', 'name': 'Costa Rica'}, {'iso': 'PER', 'name': 'Peru'}, {'iso': 'SRB', 'name': 'Serbia'}, {'iso': 'SVK', 'name': 'Slovakia'}, {'iso': 'TGO', 'name': 'Togo'}, {'iso': 'VAT', 'name': 'Holy See'}, {'iso': 'GUF', 'name': 'French Guiana'}, {'iso': 'MLT', 'name': 'Malta'}, {'iso': 'MTQ', 'name': 'Martinique'}, {'iso': 'BGR', 'name': 'Bulgaria'}, {'iso': 'MDV', 'name': 'Maldives'}, {'iso': 'BGD', 'name': 'Bangladesh'}, {'iso': 'MDA', 'name': 'Moldova'}, {'iso': 'PRY', 'name': 'Paraguay'}, {'iso': 'ALB', 'name': 'Albania'}, {'iso': 'CYP', 'name': 'Cyprus'}, {'iso': 'BRN', 'name': 'Brunei'}, {'iso': 'MAC', 'name': 'Macao SAR'}, {'iso': 'MAF', 'name': 'Saint Martin'}, {'iso': 'BFA', 'name': 'Burkina Faso'}, {'iso': 'GGY-JEY', 'name': 'Channel Islands'}, {'iso': 'MNG', 'name': 'Mongolia'}, {'iso': 'PAN', 'name': 'Panama'}, {'iso': 'cruise', 'name': 'Cruise Ship'}, {'iso': 'TWN', 'name': 'Taiwan*'}, {'iso': 'BOL', 'name': 'Bolivia'}, {'iso': 'HND', 'name': 'Honduras'}, {'iso': 'COD', 'name': 'Congo (Kinshasa)'}, {'iso': 'JAM', 'name': 'Jamaica'}, {'iso': 'REU', 'name': 'Reunion'}, {'iso': 'TUR', 'name': 'Turkey'}, {'iso': 'CUB', 'name': 'Cuba'}, {'iso': 'GUY', 'name': 'Guyana'}, {'iso': 'KAZ', 'name': 'Kazakhstan'}, {'iso': 'CYM', 'name': 'Cayman Islands'}, {'iso': 'GLP', 'name': 'Guadeloupe'}, {'iso': 'ETH', 'name': 'Ethiopia'}, {'iso': 'SDN', 'name': 'Sudan'}, {'iso': 'GIN', 'name': 'Guinea'}, {'iso': 'ATG', 'name': 'Antigua and Barbuda'}, {'iso': 'ABW', 'name': 'Aruba'}, {'iso': 'KEN', 'name': 'Kenya'}, {'iso': 'URY', 'name': 'Uruguay'}, {'iso': 'GHA', 'name': 'Ghana'}, {'iso': 'JEY', 'name': 'Jersey'}, {'iso': 'NAM', 'name': 'Namibia'}, {'iso': 'SYC', 'name': 'Seychelles'}, {'iso': 'TTO', 'name': 'Trinidad and Tobago'}, {'iso': 'VEN', 'name': 'Venezuela'}, {'iso': 'CUW', 'name': 'Curacao'}, {'iso': 'SWZ', 'name': 'Eswatini'}, {'iso': 'GAB', 'name': 'Gabon'}, {'iso': 'GTM', 'name': 'Guatemala'}, {'iso': 'GGY', 'name': 'Guernsey'}, {'iso': 'MRT', 'name': 'Mauritania'}, {'iso': 'RWA', 'name': 'Rwanda'}, {'iso': 'LCA', 'name': 'Saint Lucia'}, {'iso': 'VCT', 'name': 'Saint Vincent and the Grenadines'}, {'iso': 'SUR', 'name': 'Suriname'}, {'iso': 'RKS', 'name': 'Kosovo'}, {'iso': 'CAF', 'name': 'Central African Republic'}, {'iso': 'COG', 'name': 'Congo (Brazzaville)'}, {'iso': 'GNQ', 'name': 'Equatorial Guinea'}, {'iso': 'UZB', 'name': 'Uzbekistan'}, {'iso': 'GUM', 'name': 'Guam'}, {'iso': 'PRI', 'name': 'Puerto Rico'}, {'iso': 'BEN', 'name': 'Benin'}, {'iso': 'GRL', 'name': 'Greenland'}, {'iso': 'LBR', 'name': 'Liberia'}, {'iso': 'MYT', 'name': 'Mayotte'}, {'iso': 'SOM', 'name': 'Somalia'}, {'iso': 'TZA', 'name': 'Tanzania'}, {'iso': 'BHS', 'name': 'Bahamas'}, {'iso': 'BRB', 'name': 'Barbados'}, {'iso': 'MNE', 'name': 'Montenegro'}, {'iso': 'GMB', 'name': 'Gambia'}, {'iso': 'KGZ', 'name': 'Kyrgyzstan'}, {'iso': 'MUS', 'name': 'Mauritius'}, {'iso': 'ZMB', 'name': 'Zambia'}, {'iso': 'DJI', 'name': 'Djibouti'}, {'iso': 'TCD', 'name': 'Chad'}, {'iso': 'SLV', 'name': 'El Salvador'}, {'iso': 'FJI', 'name': 'Fiji'}, {'iso': 'NIC', 'name': 'Nicaragua'}, {'iso': 'MDG', 'name': 'Madagascar'}, {'iso': 'HTI', 'name': 'Haiti'}, {'iso': 'AGO', 'name': 'Angola'}, {'iso': 'CPV', 'name': 'Cabo Verde'}, {'iso': 'NER', 'name': 'Niger'}, {'iso': 'PNG', 'name': 'Papua New Guinea'}, {'iso': 'ZWE', 'name': 'Zimbabwe'}, {'iso': 'TLS', 'name': 'Timor-Leste'}, {'iso': 'ERI', 'name': 'Eritrea'}, {'iso': 'UGA', 'name': 'Uganda'}, {'iso': 'DMA', 'name': 'Dominica'}, {'iso': 'GRD', 'name': 'Grenada'}, {'iso': 'MOZ', 'name': 'Mozambique'}, {'iso': 'SYR', 'name': 'Syria'}, {'iso': 'BLZ', 'name': 'Belize'}, {'iso': 'LAO', 'name': 'Laos'}, {'iso': 'LBY', 'name': 'Libya'}, {'iso': 'NA-SHIP-DP', 'name': 'Diamond Princess'}, {'iso': 'GNB', 'name': 'Guinea-Bissau'}, {'iso': 'MLI', 'name': 'Mali'}, {'iso': 'KNA', 'name': 'Saint Kitts and Nevis'}, {'iso': 'BWA', 'name': 'Botswana'}, {'iso': 'BDI', 'name': 'Burundi'}, {'iso': 'SLE', 'name': 'Sierra Leone'}, {'iso': 'MMR', 'name': 'Burma'}, {'iso': 'MWI', 'name': 'Malawi'}, {'iso': 'SSD', 'name': 'South Sudan'}, {'iso': 'ESH', 'name': 'Western Sahara'}, {'iso': 'STP', 'name': 'Sao Tome and Principe'}, {'iso': 'NA-SHIP-MSZ', 'name': 'MS Zaandam'}, {'iso': 'YEM', 'name': 'Yemen'}, {'iso': 'COM', 'name': 'Comoros'}, {'iso': 'TJK', 'name': 'Tajikistan'}, {'iso': 'LSO', 'name': 'Lesotho'}, {'iso': 'SLB', 'name': 'Solomon Islands'}, {'iso': 'MHL', 'name': 'Marshall Islands'}, {'iso': 'VUT', 'name': 'Vanuatu'}, {'iso': 'WSM', 'name': 'Samoa'}, {'iso': 'KIR', 'name': 'Kiribati'}, {'iso': 'PLW', 'name': 'Palau'}, {'iso': 'TON', 'name': 'Tonga'}, {'iso': 'NRU', 'name': 'Nauru'}, {'iso': 'TUV', 'name': 'Tuvalu'}]}\n"
     ]
    }
   ],
   "source": [
    "import requests\n",
    "\n",
    "url = \"https://covid-19-statistics.p.rapidapi.com/regions\"\n",
    "\n",
    "headers = {\n",
    "    'X-RapidAPI-Host': 'covid-19-statistics.p.rapidapi.com',\n",
    "    'X-RapidAPI-Key': '80bf711dd5msha3d54661a3e2619p19c6bbjsn1c15751be589'\n",
    "}\n",
    "\n",
    "response = requests.get(url, headers=headers)\n",
    "\n",
    "print(response.json())\n"
   ]
  },
  {
   "cell_type": "code",
   "execution_count": 8,
   "id": "f4548aa0-87f1-40a2-955b-3c094c3634ce",
   "metadata": {},
   "outputs": [
    {
     "name": "stdout",
     "output_type": "stream",
     "text": [
      "     iso                 name\n",
      "0    CHN                China\n",
      "1    TWN  Taipei and environs\n",
      "2    USA                   US\n",
      "3    JPN                Japan\n",
      "4    THA             Thailand\n",
      "..   ...                  ...\n",
      "214  KIR             Kiribati\n",
      "215  PLW                Palau\n",
      "216  TON                Tonga\n",
      "217  NRU                Nauru\n",
      "218  TUV               Tuvalu\n",
      "\n",
      "[219 rows x 2 columns]\n"
     ]
    },
    {
     "data": {
      "text/html": [
       "<div>\n",
       "<style scoped>\n",
       "    .dataframe tbody tr th:only-of-type {\n",
       "        vertical-align: middle;\n",
       "    }\n",
       "\n",
       "    .dataframe tbody tr th {\n",
       "        vertical-align: top;\n",
       "    }\n",
       "\n",
       "    .dataframe thead th {\n",
       "        text-align: right;\n",
       "    }\n",
       "</style>\n",
       "<table border=\"1\" class=\"dataframe\">\n",
       "  <thead>\n",
       "    <tr style=\"text-align: right;\">\n",
       "      <th></th>\n",
       "      <th>iso</th>\n",
       "      <th>name</th>\n",
       "    </tr>\n",
       "  </thead>\n",
       "  <tbody>\n",
       "    <tr>\n",
       "      <th>0</th>\n",
       "      <td>CHN</td>\n",
       "      <td>China</td>\n",
       "    </tr>\n",
       "    <tr>\n",
       "      <th>1</th>\n",
       "      <td>TWN</td>\n",
       "      <td>Taipei and environs</td>\n",
       "    </tr>\n",
       "    <tr>\n",
       "      <th>2</th>\n",
       "      <td>USA</td>\n",
       "      <td>US</td>\n",
       "    </tr>\n",
       "    <tr>\n",
       "      <th>3</th>\n",
       "      <td>JPN</td>\n",
       "      <td>Japan</td>\n",
       "    </tr>\n",
       "    <tr>\n",
       "      <th>4</th>\n",
       "      <td>THA</td>\n",
       "      <td>Thailand</td>\n",
       "    </tr>\n",
       "  </tbody>\n",
       "</table>\n",
       "</div>"
      ],
      "text/plain": [
       "   iso                 name\n",
       "0  CHN                China\n",
       "1  TWN  Taipei and environs\n",
       "2  USA                   US\n",
       "3  JPN                Japan\n",
       "4  THA             Thailand"
      ]
     },
     "execution_count": 8,
     "metadata": {},
     "output_type": "execute_result"
    }
   ],
   "source": [
    "import requests\n",
    "import pandas as pd\n",
    "\n",
    "url = \"https://covid-19-statistics.p.rapidapi.com/regions\"\n",
    "\n",
    "headers = {\n",
    "    'X-RapidAPI-Host': 'covid-19-statistics.p.rapidapi.com',\n",
    "    'X-RapidAPI-Key': '80bf711dd5msha3d54661a3e2619p19c6bbjsn1c15751be589'\n",
    "}\n",
    "\n",
    "response = requests.get(url, headers=headers)\n",
    "\n",
    "# Check if the request was successful\n",
    "if response.status_code == 200:\n",
    "    data = response.json()\n",
    "    # Convert the data to a DataFrame\n",
    "    df = pd.DataFrame(data['data'])\n",
    "    # Print the DataFrame\n",
    "    df.to_csv('covid_regions.csv', index=False)\n",
    "    print(df)\n",
    "else:\n",
    "    print(f\"Error: {response.status_code}, {response.json()}\")\n",
    "\n",
    "# Display the first few rows of the DataFrame\n",
    "df.head()\n"
   ]
  },
  {
   "cell_type": "code",
   "execution_count": 7,
   "id": "13986a85-eb15-4fe1-afd0-099dc1a4d9c7",
   "metadata": {},
   "outputs": [],
   "source": [
    "df.to_csv('covid_regions.csv', index=False)"
   ]
  },
  {
   "cell_type": "code",
   "execution_count": null,
   "id": "5cd9cd37-83f6-4f47-bc3f-bedb91607d64",
   "metadata": {},
   "outputs": [],
   "source": []
  }
 ],
 "metadata": {
  "kernelspec": {
   "display_name": "Python 3 (ipykernel)",
   "language": "python",
   "name": "python3"
  },
  "language_info": {
   "codemirror_mode": {
    "name": "ipython",
    "version": 3
   },
   "file_extension": ".py",
   "mimetype": "text/x-python",
   "name": "python",
   "nbconvert_exporter": "python",
   "pygments_lexer": "ipython3",
   "version": "3.11.7"
  }
 },
 "nbformat": 4,
 "nbformat_minor": 5
}
